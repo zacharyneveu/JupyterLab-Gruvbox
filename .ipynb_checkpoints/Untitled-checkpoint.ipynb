{
 "cells": [
  {
   "cell_type": "code",
   "execution_count": 7,
   "metadata": {},
   "outputs": [
    {
     "name": "stdout",
     "output_type": "stream",
     "text": [
      "i is 1.01\n",
      "i is 1.02\n",
      "i is 1.03\n",
      "i is 1.04\n",
      "i is 1.05\n",
      "i is 1.06\n",
      "i is 1.07\n",
      "i is 1.08\n",
      "i is 1.09\n",
      "i is 1.1\n",
      "i is 1.11\n",
      "i is 1.12\n",
      "i is 1.1300000000000001\n",
      "i is 1.1400000000000001\n",
      "i is 1.1500000000000001\n",
      "i is 1.1600000000000001\n",
      "i is 1.1700000000000002\n",
      "i is 1.1800000000000002\n",
      "i is 1.1900000000000002\n",
      "i is 1.2000000000000002\n",
      "i is 1.2100000000000002\n",
      "i is 1.2200000000000002\n",
      "i is 1.2300000000000002\n",
      "i is 1.2400000000000002\n",
      "i is 1.2500000000000002\n",
      "i is 1.2600000000000002\n",
      "i is 1.2700000000000002\n",
      "i is 1.2800000000000002\n",
      "i is 1.2900000000000003\n",
      "i is 1.3000000000000003\n",
      "i is 1.3100000000000003\n",
      "i is 1.3200000000000003\n",
      "i is 1.3300000000000003\n",
      "i is 1.3400000000000003\n",
      "i is 1.3500000000000003\n",
      "i is 1.3600000000000003\n",
      "i is 1.3700000000000003\n",
      "i is 1.3800000000000003\n",
      "i is 1.3900000000000003\n",
      "i is 1.4000000000000004\n",
      "i is 1.4100000000000004\n",
      "i is 1.4200000000000004\n",
      "i is 1.4300000000000004\n",
      "i is 1.4400000000000004\n",
      "i is 1.4500000000000004\n",
      "i is 1.4600000000000004\n",
      "i is 1.4700000000000004\n",
      "i is 1.4800000000000004\n",
      "i is 1.4900000000000004\n",
      "i is 1.5000000000000004\n",
      "i is 1.5100000000000005\n",
      "i is 1.5200000000000005\n",
      "i is 1.5300000000000005\n",
      "i is 1.5400000000000005\n",
      "i is 1.5500000000000005\n",
      "i is 1.5600000000000005\n",
      "i is 1.5700000000000005\n",
      "i is 1.5800000000000005\n",
      "i is 1.5900000000000005\n",
      "i is 1.6000000000000005\n",
      "i is 1.6100000000000005\n",
      "i is 1.6200000000000006\n",
      "i is 1.6300000000000006\n",
      "i is 1.6400000000000006\n",
      "i is 1.6500000000000006\n",
      "i is 1.6600000000000006\n",
      "i is 1.6700000000000006\n",
      "i is 1.6800000000000006\n",
      "i is 1.6900000000000006\n",
      "i is 1.7000000000000006\n",
      "i is 1.7100000000000006\n",
      "i is 1.7200000000000006\n",
      "i is 1.7300000000000006\n",
      "i is 1.7400000000000007\n",
      "i is 1.7500000000000007\n",
      "i is 1.7600000000000007\n",
      "i is 1.7700000000000007\n",
      "i is 1.7800000000000007\n",
      "i is 1.7900000000000007\n",
      "i is 1.8000000000000007\n",
      "i is 1.8100000000000007\n",
      "i is 1.8200000000000007\n",
      "i is 1.8300000000000007\n",
      "i is 1.8400000000000007\n",
      "i is 1.8500000000000008\n",
      "i is 1.8600000000000008\n",
      "i is 1.8700000000000008\n",
      "i is 1.8800000000000008\n",
      "i is 1.8900000000000008\n",
      "i is 1.9000000000000008\n",
      "i is 1.9100000000000008\n",
      "i is 1.9200000000000008\n",
      "i is 1.9300000000000008\n",
      "i is 1.9400000000000008\n",
      "i is 1.9500000000000008\n",
      "i is 1.9600000000000009\n",
      "i is 1.9700000000000009\n",
      "i is 1.9800000000000009\n",
      "i is 1.9900000000000009\n",
      "i is 2.000000000000001\n",
      "i is 2.0100000000000007\n",
      "i is 2.0200000000000005\n",
      "i is 2.0300000000000002\n",
      "i is 2.04\n",
      "i is 2.05\n",
      "i is 2.0599999999999996\n",
      "i is 2.0699999999999994\n",
      "i is 2.079999999999999\n",
      "i is 2.089999999999999\n",
      "i is 2.0999999999999988\n",
      "i is 2.1099999999999985\n",
      "i is 2.1199999999999983\n",
      "Test String\n"
     ]
    },
    {
     "data": {
      "text/plain": [
       "'This is a secondary string'"
      ]
     },
     "execution_count": 7,
     "metadata": {},
     "output_type": "execute_result"
    }
   ],
   "source": [
    "i = 1;\n",
    "j = 2;\n",
    "while i < j:\n",
    "    i += 0.01\n",
    "    j += 0.001\n",
    "    print(f'i is {i}')\n",
    "\n",
    "print(\"Test String\")\n",
    "\n",
    "\"\"\"\n",
    "This is a docstring\n",
    "\"\"\"\n",
    "\n",
    "'This is a secondary string'"
   ]
  },
  {
   "cell_type": "code",
   "execution_count": null,
   "metadata": {},
   "outputs": [],
   "source": []
  },
  {
   "cell_type": "code",
   "execution_count": null,
   "metadata": {},
   "outputs": [],
   "source": []
  },
  {
   "cell_type": "code",
   "execution_count": 6,
   "metadata": {},
   "outputs": [
    {
     "name": "stdout",
     "output_type": "stream",
     "text": [
      "This is a test\n"
     ]
    }
   ],
   "source": [
    "!echo \"This is a test\""
   ]
  },
  {
   "cell_type": "code",
   "execution_count": null,
   "metadata": {},
   "outputs": [],
   "source": []
  }
 ],
 "metadata": {
  "kernelspec": {
   "display_name": "Python 3",
   "language": "python",
   "name": "python3"
  },
  "language_info": {
   "codemirror_mode": {
    "name": "ipython",
    "version": 3
   },
   "file_extension": ".py",
   "mimetype": "text/x-python",
   "name": "python",
   "nbconvert_exporter": "python",
   "pygments_lexer": "ipython3",
   "version": "3.6.5"
  }
 },
 "nbformat": 4,
 "nbformat_minor": 4
}
